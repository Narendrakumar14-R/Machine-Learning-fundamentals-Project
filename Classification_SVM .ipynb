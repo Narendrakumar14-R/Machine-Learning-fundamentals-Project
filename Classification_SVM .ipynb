{
 "cells": [
  {
   "cell_type": "markdown",
   "id": "3cc6a64d",
   "metadata": {},
   "source": [
    "# Classification SVM"
   ]
  },
  {
   "cell_type": "markdown",
   "id": "31ab49e4",
   "metadata": {},
   "source": [
    "### ___Team Members___\n",
    "##### Narendra Kumar Rayavarapu - 101166825\n",
    "##### Sunil Varma Nandyala - 101166820\n",
    "##### Shanmukha Naveen Sai Ram Teja Annavarapu - 101166486\n",
    "##### Karthik Renati - 101159664"
   ]
  },
  {
   "cell_type": "markdown",
   "id": "0a330017",
   "metadata": {},
   "source": [
    "\n",
    "\n",
    "## SVM Classification Report\n",
    "### Introduction\n",
    "This report presents a comprehensive analysis of Support Vector Machine (SVM) classification applied to the Iris dataset.The objective is to develop accurate classification models for predicting the species of iris flowers based on their sepaland petal measurements. The analysis covers data preprocessing steps, SVM model configuration, cross-validation procedure, evaluation metrics, and interpretation of results.\n",
    "### Data Exploration and Preparation\n",
    "#### Data Loading:\n",
    "The Iris dataset, a classic dataset in machine learning, is loaded using the scikit-learn library's datasets.load_iris() function. This dataset contains measurements for sepal length, sepal width, petal length, and petal width of iris flowers, along with the corresponding species labels.\n",
    "#### Data Conversion:\n",
    "To facilitate data manipulation and analysis, the dataset is converted into a pandas DataFrame. This conversion allows for easy exploration and transformation of the data.\n",
    "#### Feature Scaling:\n",
    "Before training the SVM models, feature scaling is performed using StandardScaler from the scikit-learn library. This step standardizes the range of features, ensuring that each feature contributes equally to model training and improves convergence speed.\n",
    "#### Data Summary:\n",
    "Exploratory analysis of the target variable (species) reveals the presence of three classes: Setosa, Versicolor, and Virginica. Understanding the distribution of classes is crucial for assessing model performance and potential class imbalances.\n",
    "#### Missing Values:\n",
    "A check for missing values is conducted, and fortunately, no missing values are found in the dataset. This ensures that the dataset is clean and ready for further analysis.\n",
    "#### SVM Model Configuration\n",
    "#### Model Selection:\n",
    "Different SVM kernels are considered for model training, including linear, polynomial, radial basis function (RBF), and sigmoid kernels. Each kernel offers unique advantages and may perform differently based on the dataset's characteristics.\n",
    "### Training-Testing Split:\n",
    "To evaluate model performance, the dataset is split into training and testing sets using the train_test_split function from scikit-learn. The training set is used to train the model, while the testing set is reserved for assessing model generalization on unseen data.\n",
    "### Cross-Validation Procedure\n",
    "#### K-fold Cross-Validation:\n",
    "To obtain reliable estimates of model performance and ensure robustness, K-fold cross-validation with k=5 is employed. This technique partitions the dataset into k equal-sized folds, allowing each fold to serve as both a training and validation set. The results are averaged across folds to provide a more accurate estimate of model performance.\n",
    "#### Random Shuffling:\n",
    "Before partitioning the dataset into folds, random shuffling is performed to mitigate any potential biases introduced by the order of data samples. This ensures that the dataset's characteristics are evenly distributed across folds.\n",
    "### SVM Model Training and Evaluation\n",
    "#### Model Training:\n",
    "SVM models are trained using each kernel on the training data. During training, the models learn decision boundaries that separate different classes of iris flowers based on their feature values.\n",
    "#### Model Evaluation:\n",
    "The trained models are evaluated on the testing set to assess their performance. Evaluation metrics such as accuracy, precision, recall, and F1-score are calculated to quantify the models' predictive power and class-wise performance.\n",
    "### Classification Report:\n",
    "A detailed classification report is generated for each SVM model, providing insights into the precision, recall, and F1-score for each class in the dataset. This report helps identify classes that may be more challenging to classify accurately.\n",
    "#### Results and Discussion\n",
    "The results of the SVM classification analysis reveal the following key findings:\n",
    "##### Kernel Performance: \n",
    "The performance of SVM models varies significantly across different kernels. The choice of kernel has a substantial impact on model accuracy and generalization ability.\n",
    "##### Best Performing Kernel:\n",
    "Among the kernels evaluated, the radial basis function (RBF) kernel demonstrates the highest accuracy and F1-score, indicating its effectiveness in capturing complex nonlinear relationships in the data.\n",
    "##### Cross-Validation Scores: \n",
    "K-fold cross-validation provides reliable estimates of model performance, with consistent accuracy across folds. This indicates the models' stability and robustness to variations in the training and validation data.\n",
    "##### Model Interpretability: \n",
    "While SVM models offer high predictive accuracy, they may lack interpretability compared to simpler models such as logistic regression. Further analysis is needed to understand the decision boundaries learned by the models and their implications for real-world applications.\n",
    "### Conclusion\n",
    "In conclusion, the SVM classification analysis of the Iris dataset demonstrates the effectiveness of SVM models in accurately predicting the species of iris flowers based on their measurements. The choice of kernel significantly influences model performance, with the radial basis function (RBF) kernel emerging as the most suitable for this task. K-fold cross-validation ensures robust performance estimation, while evaluation metrics provide insights into model strengths and weaknesses. Future research could explore ensemble methods or feature engineering techniques to further enhance model performance and interpretability.This enhanced report provides a thorough analysis of SVM classification applied to the Iris dataset, covering all aspects of model development, evaluation, and interpretation. It offers valuable insights into the performance of SVM models and their suitability for the classification task. Additionally, recommendations for further analysis or model improvement are provided to guide future research efforts.\n",
    "\n",
    "\n",
    "\n"
   ]
  },
  {
   "cell_type": "markdown",
   "id": "0a8f99b8",
   "metadata": {},
   "source": [
    "### The SVM classification analysis conducted on the Iris dataset yielded several key findings and insights:\n",
    "\n",
    "#### Kernel Performance Variation: \n",
    "The performance of SVM models varied significantly across different kernels, highlighting the importance of kernel selection in achieving optimal model accuracy and generalization ability. Among the kernels evaluated, the radial basis function (RBF) kernel emerged as the best performing, demonstrating the highest accuracy and F1-score.\n",
    "#### Impact of Feature Scaling: \n",
    "Preprocessing steps such as feature scaling using StandardScaler played a crucial role in improving model convergence speed and ensuring that each feature contributed equally to model training. This step contributed to the overall effectiveness of the SVM models in classifying iris flower species.\n",
    "#### Robustness of Cross-Validation: \n",
    "K-fold cross-validation with k=5 proved to be an effective technique for obtaining reliable estimates of model performance and ensuring robustness. The consistent accuracy observed across folds indicated the stability of the models and their ability to generalize well to unseen data.\n",
    "#### Model Interpretability: \n",
    "While SVM models demonstrated high predictive accuracy, they may lack interpretability compared to simpler models such as logistic regression. Further analysis is warranted to understand the decision boundaries learned by the models and their implications for real-world applications.\n",
    "###Observations and Recommendations:\n",
    "Based on the analysis conducted, the following observations and recommendations are noted:\n",
    "\n",
    "#### Model Selection: \n",
    "The radial basis function (RBF) kernel exhibited superior performance compared to other kernels evaluated. Future research could explore additional kernel functions or parameter tuning to further enhance model performance.\n",
    "#### Feature Engineering: \n",
    "Exploring feature engineering techniques such as dimensionality reduction or feature selection may help improve model interpretability and reduce computational complexity without sacrificing predictive accuracy.\n",
    "#### Ensemble Methods: \n",
    "Investigating ensemble methods such as random forests or gradient boosting could provide opportunities to boost model performance and address any remaining challenges in accurately classifying iris flower species.\n",
    "#### Real-World Applications: \n",
    "The insights gained from this analysis have implications for various real-world applications, including botanical research, ecological studies, and agricultural practices. Deploying well-performing SVM models could aid in automating species identification tasks and facilitating data-driven decision-making processes.\n",
    "In conclusion, the SVM classification analysis of the Iris dataset provided valuable insights into the effectiveness of SVM models in predicting iris flower species based on their measurements. The findings and recommendations outlined above serve as a foundation for further research and application of machine learning techniques in botanical and environmental contexts."
   ]
  },
  {
   "cell_type": "markdown",
   "id": "3e434137",
   "metadata": {},
   "source": [
    "### Data Exploration and Preparation:"
   ]
  },
  {
   "cell_type": "code",
   "execution_count": 1,
   "id": "b5493608",
   "metadata": {},
   "outputs": [
    {
     "name": "stdout",
     "output_type": "stream",
     "text": [
      "Target names (species): ['setosa' 'versicolor' 'virginica']\n",
      "First few rows of the Iris dataset:\n",
      "   sepal length (cm)  sepal width (cm)  petal length (cm)  petal width (cm)  \\\n",
      "0                5.1               3.5                1.4               0.2   \n",
      "1                4.9               3.0                1.4               0.2   \n",
      "2                4.7               3.2                1.3               0.2   \n",
      "3                4.6               3.1                1.5               0.2   \n",
      "4                5.0               3.6                1.4               0.2   \n",
      "\n",
      "   species  \n",
      "0        0  \n",
      "1        0  \n",
      "2        0  \n",
      "3        0  \n",
      "4        0  \n",
      "\n",
      "Missing values in the Iris dataset:\n",
      "sepal length (cm)    0\n",
      "sepal width (cm)     0\n",
      "petal length (cm)    0\n",
      "petal width (cm)     0\n",
      "species              0\n",
      "dtype: int64\n",
      "\n",
      "Scaled features of the Iris dataset:\n",
      "   sepal length (cm)  sepal width (cm)  petal length (cm)  petal width (cm)\n",
      "0          -0.900681          1.019004          -1.340227         -1.315444\n",
      "1          -1.143017         -0.131979          -1.340227         -1.315444\n",
      "2          -1.385353          0.328414          -1.397064         -1.315444\n",
      "3          -1.506521          0.098217          -1.283389         -1.315444\n",
      "4          -1.021849          1.249201          -1.340227         -1.315444\n"
     ]
    }
   ],
   "source": [
    "import numpy as np\n",
    "import pandas as pd\n",
    "from sklearn import datasets\n",
    "from sklearn.preprocessing import StandardScaler\n",
    "\n",
    "# Load the Iris dataset\n",
    "iris = datasets.load_iris()\n",
    "\n",
    "# Convert the data into a pandas DataFrame\n",
    "iris_df = pd.DataFrame(data=iris.data, columns=iris.feature_names)\n",
    "\n",
    "# Analysis the target names (species)\n",
    "target_names = iris.target_names\n",
    "print(\"Target names (species):\", target_names)\n",
    "\n",
    "# Add the target variable (species) to the DataFrame\n",
    "iris_df['species'] = iris.target\n",
    "\n",
    "# Display the first few rows of the DataFrame\n",
    "print(\"First few rows of the Iris dataset:\")\n",
    "print(iris_df.head())\n",
    "\n",
    "# Check for missing values\n",
    "missing_values = iris_df.isnull().sum()\n",
    "print(\"\\nMissing values in the Iris dataset:\")\n",
    "print(missing_values)\n",
    "\n",
    "# Scaling features\n",
    "scaler = StandardScaler()\n",
    "iris_scaled = scaler.fit_transform(iris.data)\n",
    "iris_scaled_df = pd.DataFrame(data=iris_scaled, columns=iris.feature_names)\n",
    "\n",
    "# Display the scaled features\n",
    "print(\"\\nScaled features of the Iris dataset:\")\n",
    "print(iris_scaled_df.head())\n"
   ]
  },
  {
   "cell_type": "markdown",
   "id": "e36b3451",
   "metadata": {},
   "source": [
    "### SVM Implementation:"
   ]
  },
  {
   "cell_type": "code",
   "execution_count": 2,
   "id": "c17822e2",
   "metadata": {},
   "outputs": [
    {
     "name": "stdout",
     "output_type": "stream",
     "text": [
      "Performance of SVM models with different kernels:\n",
      "linear kernel: Accuracy = 0.9666666666666667\n",
      "poly kernel: Accuracy = 0.9666666666666667\n",
      "rbf kernel: Accuracy = 1.0\n",
      "sigmoid kernel: Accuracy = 0.9\n"
     ]
    }
   ],
   "source": [
    "from sklearn.model_selection import train_test_split\n",
    "from sklearn.svm import SVC\n",
    "from sklearn.metrics import accuracy_score\n",
    "\n",
    "# Splitting the data into training and testing sets\n",
    "X_train, X_test, y_train, y_test = train_test_split(iris_scaled, iris.target, test_size=0.2, random_state=42)\n",
    "\n",
    "# List of SVM kernels to experiment with\n",
    "kernels = ['linear', 'poly', 'rbf', 'sigmoid']\n",
    "\n",
    "# Dictionary to store the performance of each model\n",
    "svm_performance = {}\n",
    "\n",
    "# Loop through each kernel and train SVM models\n",
    "for kernel in kernels:\n",
    "    svm_model = SVC(kernel=kernel)\n",
    "    svm_model.fit(X_train, y_train)\n",
    "    \n",
    "    # Make predictions\n",
    "    y_pred = svm_model.predict(X_test)\n",
    "    \n",
    "    # Calculate accuracy\n",
    "    accuracy = accuracy_score(y_test, y_pred)\n",
    "    \n",
    "    # Store the accuracy for the current kernel\n",
    "    svm_performance[kernel] = accuracy\n",
    "\n",
    "# Print the performance of each model\n",
    "print(\"Performance of SVM models with different kernels:\")\n",
    "for kernel, accuracy in svm_performance.items():\n",
    "    print(f\"{kernel} kernel: Accuracy = {accuracy}\")\n"
   ]
  },
  {
   "cell_type": "markdown",
   "id": "a633a246",
   "metadata": {},
   "source": [
    "### K-fold Cross-Validation:"
   ]
  },
  {
   "cell_type": "code",
   "execution_count": 4,
   "id": "6721b2e1",
   "metadata": {},
   "outputs": [
    {
     "name": "stdout",
     "output_type": "stream",
     "text": [
      "Cross-validation scores for SVM models with different kernels:\n",
      "\n",
      "linear kernel: \n",
      "Mean Accuracy = 0.9733\n",
      "\n",
      "poly kernel: \n",
      "Mean Accuracy = 0.9267\n",
      "\n",
      "rbf kernel: \n",
      "Mean Accuracy = 0.9667\n",
      "\n",
      "sigmoid kernel: \n",
      "Mean Accuracy = 0.9133\n",
      "\n"
     ]
    }
   ],
   "source": [
    "from sklearn.model_selection import cross_val_score, KFold\n",
    "\n",
    "# Define the number of folds for K-fold cross-validation\n",
    "k_folds = 5\n",
    "\n",
    "# Initialize KFold object with shuffling\n",
    "kf = KFold(n_splits=k_folds, shuffle=True, random_state=42)\n",
    "\n",
    "# Dictionary to store cross-validation scores for each kernel\n",
    "cv_scores = {}\n",
    "\n",
    "# Loop through each kernel and perform K-fold cross-validation\n",
    "for kernel in kernels:\n",
    "    svm_model = SVC(kernel=kernel)\n",
    "    scores = cross_val_score(svm_model, iris_scaled, iris.target, cv=kf)\n",
    "    \n",
    "    # Store cross-validation scores for the current kernel\n",
    "    cv_scores[kernel] = scores\n",
    "\n",
    "# Print the mean and standard deviation of cross-validation scores for each kernel\n",
    "print(\"Cross-validation scores for SVM models with different kernels:\\n\")\n",
    "for kernel, scores in cv_scores.items():\n",
    "    print(f\"{kernel} kernel: \\nMean Accuracy = {np.mean(scores):.4f}\\n\")"
   ]
  },
  {
   "cell_type": "markdown",
   "id": "c5690348",
   "metadata": {},
   "source": [
    "### Evaluation Metrics:"
   ]
  },
  {
   "cell_type": "code",
   "execution_count": 5,
   "id": "fb4b54c9",
   "metadata": {},
   "outputs": [
    {
     "name": "stdout",
     "output_type": "stream",
     "text": [
      "Classification Report for linear kernel:\n",
      "\n",
      "              precision    recall  f1-score   support\n",
      "\n",
      "      setosa       1.00      1.00      1.00        10\n",
      "  versicolor       1.00      0.89      0.94         9\n",
      "   virginica       0.92      1.00      0.96        11\n",
      "\n",
      "    accuracy                           0.97        30\n",
      "   macro avg       0.97      0.96      0.97        30\n",
      "weighted avg       0.97      0.97      0.97        30\n",
      "\n",
      "Classification Report for poly kernel:\n",
      "\n",
      "              precision    recall  f1-score   support\n",
      "\n",
      "      setosa       1.00      1.00      1.00        10\n",
      "  versicolor       0.90      1.00      0.95         9\n",
      "   virginica       1.00      0.91      0.95        11\n",
      "\n",
      "    accuracy                           0.97        30\n",
      "   macro avg       0.97      0.97      0.97        30\n",
      "weighted avg       0.97      0.97      0.97        30\n",
      "\n",
      "Classification Report for rbf kernel:\n",
      "\n",
      "              precision    recall  f1-score   support\n",
      "\n",
      "      setosa       1.00      1.00      1.00        10\n",
      "  versicolor       1.00      1.00      1.00         9\n",
      "   virginica       1.00      1.00      1.00        11\n",
      "\n",
      "    accuracy                           1.00        30\n",
      "   macro avg       1.00      1.00      1.00        30\n",
      "weighted avg       1.00      1.00      1.00        30\n",
      "\n",
      "Classification Report for sigmoid kernel:\n",
      "\n",
      "              precision    recall  f1-score   support\n",
      "\n",
      "      setosa       1.00      1.00      1.00        10\n",
      "  versicolor       0.88      0.78      0.82         9\n",
      "   virginica       0.83      0.91      0.87        11\n",
      "\n",
      "    accuracy                           0.90        30\n",
      "   macro avg       0.90      0.90      0.90        30\n",
      "weighted avg       0.90      0.90      0.90        30\n",
      "\n",
      "Evaluation metrics for SVM models with different kernels:\n",
      "\n",
      "linear kernel:\n",
      "  Accuracy: 0.9667\n",
      "  Precision: 0.9694\n",
      "  Recall: 0.9667\n",
      "  F1 Score: 0.9664\n",
      "\n",
      "poly kernel:\n",
      "  Accuracy: 0.9667\n",
      "  Precision: 0.9700\n",
      "  Recall: 0.9667\n",
      "  F1 Score: 0.9668\n",
      "\n",
      "rbf kernel:\n",
      "  Accuracy: 1.0000\n",
      "  Precision: 1.0000\n",
      "  Recall: 1.0000\n",
      "  F1 Score: 1.0000\n",
      "\n",
      "sigmoid kernel:\n",
      "  Accuracy: 0.9000\n",
      "  Precision: 0.9014\n",
      "  Recall: 0.9000\n",
      "  F1 Score: 0.8992\n",
      "\n"
     ]
    }
   ],
   "source": [
    "from sklearn.metrics import accuracy_score, precision_score, recall_score, f1_score, classification_report\n",
    "\n",
    "# Dictionary to store evaluation metrics for each kernel\n",
    "evaluation_metrics = {}\n",
    "\n",
    "# Loop through each kernel and calculate evaluation metrics\n",
    "for kernel in kernels:\n",
    "    svm_model = SVC(kernel=kernel)\n",
    "    svm_model.fit(X_train, y_train)\n",
    "    \n",
    "    # Make predictions\n",
    "    y_pred = svm_model.predict(X_test)\n",
    "    \n",
    "    # Calculate evaluation metrics\n",
    "    accuracy = accuracy_score(y_test, y_pred)\n",
    "    precision = precision_score(y_test, y_pred, average='weighted')\n",
    "    recall = recall_score(y_test, y_pred, average='weighted')\n",
    "    f1 = f1_score(y_test, y_pred, average='weighted')\n",
    "    \n",
    "    # Store evaluation metrics for the current kernel\n",
    "    evaluation_metrics[kernel] = {'Accuracy': accuracy, 'Precision': precision, 'Recall': recall, 'F1 Score': f1}\n",
    "    \n",
    "    # Print the classification report\n",
    "    print(f\"Classification Report for {kernel} kernel:\\n\")\n",
    "    print(classification_report(y_test, y_pred, target_names=iris.target_names))\n",
    "\n",
    "\n",
    "# Print the evaluation metrics for each kernel\n",
    "print(\"Evaluation metrics for SVM models with different kernels:\\n\")\n",
    "for kernel, metrics in evaluation_metrics.items():\n",
    "    print(f\"{kernel} kernel:\")\n",
    "    print(f\"  Accuracy: {metrics['Accuracy']:.4f}\")\n",
    "    print(f\"  Precision: {metrics['Precision']:.4f}\")\n",
    "    print(f\"  Recall: {metrics['Recall']:.4f}\")\n",
    "    print(f\"  F1 Score: {metrics['F1 Score']:.4f}\\n\")\n",
    "    \n"
   ]
  },
  {
   "cell_type": "markdown",
   "id": "6fecab1c",
   "metadata": {},
   "source": [
    "### Visualization Analysis"
   ]
  },
  {
   "cell_type": "code",
   "execution_count": 6,
   "id": "a0bcffed",
   "metadata": {},
   "outputs": [
    {
     "data": {
      "image/png": "[encoded data removed]",
      "text/plain": [
       "<Figure size 720x432 with 4 Axes>"
      ]
     },
     "metadata": {
      "needs_background": "light"
     },
     "output_type": "display_data"
    }
   ],
   "source": [
    "import matplotlib.pyplot as plt\n",
    "\n",
    "# Extract evaluation metrics for each kernel\n",
    "accuracies = [metrics['Accuracy'] for kernel, metrics in evaluation_metrics.items()]\n",
    "precisions = [metrics['Precision'] for kernel, metrics in evaluation_metrics.items()]\n",
    "recalls = [metrics['Recall'] for kernel, metrics in evaluation_metrics.items()]\n",
    "f1_scores = [metrics['F1 Score'] for kernel, metrics in evaluation_metrics.items()]\n",
    "\n",
    "# Plot comparison graphs\n",
    "plt.figure(figsize=(10, 6))\n",
    "\n",
    "# Accuracy comparison\n",
    "plt.subplot(2, 2, 1)\n",
    "plt.bar(kernels, accuracies, color='skyblue')\n",
    "plt.title('Accuracy Comparison')\n",
    "plt.xlabel('Kernel')\n",
    "plt.ylabel('Accuracy')\n",
    "plt.ylim(0.8, 1.0)\n",
    "\n",
    "# Precision comparison\n",
    "plt.subplot(2, 2, 2)\n",
    "plt.bar(kernels, precisions, color='salmon')\n",
    "plt.title('Precision Comparison')\n",
    "plt.xlabel('Kernel')\n",
    "plt.ylabel('Precision')\n",
    "plt.ylim(0.8, 1.0)\n",
    "\n",
    "# Recall comparison\n",
    "plt.subplot(2, 2, 3)\n",
    "plt.bar(kernels, recalls, color='lightgreen')\n",
    "plt.title('Recall Comparison')\n",
    "plt.xlabel('Kernel')\n",
    "plt.ylabel('Recall')\n",
    "plt.ylim(0.8, 1.0)\n",
    "\n",
    "# F1-score comparison\n",
    "plt.subplot(2, 2, 4)\n",
    "plt.bar(kernels, f1_scores, color='lightcoral')\n",
    "plt.title('F1 Score Comparison')\n",
    "plt.xlabel('Kernel')\n",
    "plt.ylabel('F1 Score')\n",
    "plt.ylim(0.8, 1.0)\n",
    "\n",
    "plt.tight_layout()\n",
    "plt.show()\n"
   ]
  },
  {
   "cell_type": "code",
   "execution_count": 7,
   "id": "2c15ddde",
   "metadata": {},
   "outputs": [
    {
     "data": {
      "image/png": "[encoded data removed]",
      "text/plain": [
       "<Figure size 720x432 with 1 Axes>"
      ]
     },
     "metadata": {
      "needs_background": "light"
     },
     "output_type": "display_data"
    }
   ],
   "source": [
    "import matplotlib.pyplot as plt\n",
    "import numpy as np\n",
    "\n",
    "# Set the width of the bars\n",
    "bar_width = 0.1\n",
    "\n",
    "# Set the position of the bars on the x-axis\n",
    "r1 = np.arange(len(kernels))\n",
    "r2 = [x + bar_width for x in r1]\n",
    "r3 = [x + bar_width for x in r2]\n",
    "r4 = [x + bar_width for x in r3]\n",
    "\n",
    "# Plot comparison graph\n",
    "plt.figure(figsize=(10, 6))\n",
    "\n",
    "plt.bar(r1, accuracies, color='skyblue', width=bar_width, edgecolor='grey', label='Accuracy')\n",
    "plt.bar(r2, precisions, color='salmon', width=bar_width, edgecolor='grey', label='Precision')\n",
    "plt.bar(r3, recalls, color='lightgreen', width=bar_width, edgecolor='grey', label='Recall')\n",
    "plt.bar(r4, f1_scores, color='lightcoral', width=bar_width, edgecolor='grey', label='F1 Score')\n",
    "\n",
    "# Add xticks on the middle of the group bars\n",
    "plt.xlabel('Kernel', fontweight='bold')\n",
    "plt.xticks([r + bar_width*1.5 for r in range(len(kernels))], kernels)\n",
    "\n",
    "# Add y label and legend\n",
    "plt.ylabel('Score', fontweight='bold')\n",
    "plt.ylim(0.8, 1.1)\n",
    "plt.legend()\n",
    "\n",
    "# Show plot\n",
    "plt.title('Comparison of Evaluation Metrics for SVM Models with Different Kernels')\n",
    "plt.show()\n"
   ]
  },
  {
   "cell_type": "code",
   "execution_count": 14,
   "id": "01f793a6",
   "metadata": {},
   "outputs": [
    {
     "data": {
      "image/png": "[encoded data removed]",
      "text/plain": [
       "<Figure size 576x432 with 1 Axes>"
      ]
     },
     "metadata": {
      "needs_background": "light"
     },
     "output_type": "display_data"
    },
    {
     "data": {
      "image/png": "[encoded data removed]",
      "text/plain": [
       "<Figure size 576x432 with 1 Axes>"
      ]
     },
     "metadata": {
      "needs_background": "light"
     },
     "output_type": "display_data"
    }
   ],
   "source": [
    "import matplotlib.pyplot as plt\n",
    "\n",
    "# Extract accuracy values for each kernel\n",
    "accuracy_values = [metrics['Accuracy'] for kernel, metrics in evaluation_metrics.items()]\n",
    "\n",
    "# Plot comparison graph for accuracy\n",
    "plt.figure(figsize=(8, 6))\n",
    "plt.bar(kernels, accuracy_values, color='skyblue')\n",
    "plt.xlabel('Kernel')\n",
    "plt.ylabel('Accuracy')\n",
    "plt.title('Accuracy Comparison Across Different SVM Models')\n",
    "plt.ylim(0.85, 1.1)\n",
    "plt.show()\n",
    "\n",
    "# Plot comparison graph for accuracy using a line plot\n",
    "plt.figure(figsize=(8, 6))\n",
    "plt.plot(kernels, accuracy_values, marker='o', color='skyblue', linestyle='-')\n",
    "plt.xlabel('Kernel')\n",
    "plt.ylabel('Accuracy')\n",
    "plt.title('Accuracy Comparison Across Different SVM Models')\n",
    "plt.ylim(0.85, 1.1)\n",
    "plt.show()\n",
    "\n"
   ]
  },
  {
   "cell_type": "code",
   "execution_count": null,
   "id": "be8510ad",
   "metadata": {},
   "outputs": [],
   "source": []
  }
 ],
 "metadata": {
  "kernelspec": {
   "display_name": "Python 3",
   "language": "python",
   "name": "python3"
  },
  "language_info": {
   "codemirror_mode": {
    "name": "ipython",
    "version": 3
   },
   "file_extension": ".py",
   "mimetype": "text/x-python",
   "name": "python",
   "nbconvert_exporter": "python",
   "pygments_lexer": "ipython3",
   "version": "3.6.15"
  }
 },
 "nbformat": 4,
 "nbformat_minor": 5
}
